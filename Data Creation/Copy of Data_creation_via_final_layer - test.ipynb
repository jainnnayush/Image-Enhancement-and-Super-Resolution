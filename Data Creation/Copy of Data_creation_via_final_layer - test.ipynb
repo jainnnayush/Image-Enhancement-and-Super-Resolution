{
 "cells": [
  {
   "cell_type": "code",
   "execution_count": null,
   "metadata": {
    "colab": {
     "base_uri": "https://localhost:8080/"
    },
    "executionInfo": {
     "elapsed": 3159,
     "status": "ok",
     "timestamp": 1617130931044,
     "user": {
      "displayName": "Rishiraj Bhosale",
      "photoUrl": "",
      "userId": "11657221070443566547"
     },
     "user_tz": -330
    },
    "id": "Ld-AXSkIgBRH",
    "outputId": "e5543d12-2f60-4bdc-daa3-2a0656342db8"
   },
   "outputs": [
    {
     "name": "stdout",
     "output_type": "stream",
     "text": [
      "Drive already mounted at /content/drive; to attempt to forcibly remount, call drive.mount(\"/content/drive\", force_remount=True).\n"
     ]
    }
   ],
   "source": [
    "from google.colab import drive\n",
    "drive.mount('/content/drive')"
   ]
  },
  {
   "cell_type": "code",
   "execution_count": null,
   "metadata": {
    "colab": {
     "base_uri": "https://localhost:8080/"
    },
    "executionInfo": {
     "elapsed": 5286,
     "status": "ok",
     "timestamp": 1617130938226,
     "user": {
      "displayName": "Rishiraj Bhosale",
      "photoUrl": "",
      "userId": "11657221070443566547"
     },
     "user_tz": -330
    },
    "id": "w9OJdq0ggX5i",
    "outputId": "b1f3daf7-5b26-40a2-a90c-25a10bb4e8d1"
   },
   "outputs": [
    {
     "name": "stdout",
     "output_type": "stream",
     "text": [
      "Requirement already satisfied: pytorch-msssim in /usr/local/lib/python3.7/dist-packages (0.2.1)\n",
      "Requirement already satisfied: torch in /usr/local/lib/python3.7/dist-packages (from pytorch-msssim) (1.8.1+cu101)\n",
      "Requirement already satisfied: numpy in /usr/local/lib/python3.7/dist-packages (from torch->pytorch-msssim) (1.19.5)\n",
      "Requirement already satisfied: typing-extensions in /usr/local/lib/python3.7/dist-packages (from torch->pytorch-msssim) (3.7.4.3)\n"
     ]
    }
   ],
   "source": [
    "!pip install pytorch-msssim"
   ]
  },
  {
   "cell_type": "code",
   "execution_count": null,
   "metadata": {
    "id": "ZObsuW8-fuIP"
   },
   "outputs": [],
   "source": [
    "import glob\n",
    "import random\n",
    "import os\n",
    "import numpy as np\n",
    "import argparse\n",
    "import math\n",
    "import itertools\n",
    "import sys\n",
    "\n",
    "import torch\n",
    "from torch import nn\n",
    "import torch.nn.functional as F\n",
    "from torch.utils.data import Dataset\n",
    "from PIL import Image\n",
    "import torchvision.transforms as transforms\n",
    "\n",
    "import torchvision.transforms as transforms\n",
    "from torchvision.utils import save_image, make_grid\n",
    "\n",
    "from torch.utils.data import DataLoader\n",
    "from torch.autograd import Variable\n",
    "\n",
    "from matplotlib import pyplot as plt\n",
    "\n",
    "from pytorch_msssim import ssim, ms_ssim, SSIM, MS_SSIM\n",
    "\n",
    "# Normalization parameters for pre-trained PyTorch models\n",
    "mean = np.array([0.485, 0.456, 0.406])\n",
    "std = np.array([0.229, 0.224, 0.225])"
   ]
  },
  {
   "cell_type": "code",
   "execution_count": null,
   "metadata": {
    "id": "A1qpjc15fuIT"
   },
   "outputs": [],
   "source": [
    "from drive.MyDrive.ImageSuperResolution import final"
   ]
  },
  {
   "cell_type": "code",
   "execution_count": null,
   "metadata": {
    "id": "emfe_VJPfuIT"
   },
   "outputs": [],
   "source": [
    "class ImageDataset(Dataset):\n",
    "    def __init__(self, root, shape, transform):\n",
    "        height, width = shape\n",
    "        # Transforms for low resolution images and high resolution images\n",
    "        self.transform = transform\n",
    "\n",
    "        self.files = sorted(glob.glob(root + \"/*.*\"))\n",
    "\n",
    "    def __getitem__(self, index):\n",
    "        low_path = self.files[index % len(self.files)]\n",
    "        #high_path = low_path.replace('low','high')\n",
    "        \n",
    "        img_low = Image.open(low_path)\n",
    "        #img_high = Image.open(high_path)\n",
    "        \n",
    "        img_low = self.transform(img_low)\n",
    "        #img_high = self.transform(img_high)\n",
    "         \n",
    "        name = low_path[80:]\n",
    "\n",
    "        return {\"low\": img_low, \"name\": name}\n",
    "\n",
    "\n",
    "    def __len__(self):\n",
    "        return len(self.files)"
   ]
  },
  {
   "cell_type": "code",
   "execution_count": null,
   "metadata": {
    "id": "bKupLnELfuIT"
   },
   "outputs": [],
   "source": [
    "root = '/content/drive/MyDrive/ImageSuperResolution/DatasetBatches/test/SRGAN_generated/'\n",
    "shape = (400,400)\n",
    "\n",
    "transform = transforms.Compose(\n",
    "            [\n",
    "                #transforms.Resize((shape[0], shape[1]), Image.BICUBIC),\n",
    "                transforms.ToTensor(),\n",
    "                #transforms.Normalize(mean, std),\n",
    "            ]\n",
    "        )"
   ]
  },
  {
   "cell_type": "code",
   "execution_count": null,
   "metadata": {
    "id": "mApkYnpxfuIU"
   },
   "outputs": [],
   "source": [
    "data = ImageDataset(root, shape, transform)"
   ]
  },
  {
   "cell_type": "code",
   "execution_count": null,
   "metadata": {
    "colab": {
     "base_uri": "https://localhost:8080/"
    },
    "executionInfo": {
     "elapsed": 1001,
     "status": "ok",
     "timestamp": 1617130978844,
     "user": {
      "displayName": "Rishiraj Bhosale",
      "photoUrl": "",
      "userId": "11657221070443566547"
     },
     "user_tz": -330
    },
    "id": "gZa2kTXpfuIU",
    "outputId": "b0e222be-1f0b-4b50-b849-5c5105162f6b"
   },
   "outputs": [
    {
     "data": {
      "text/plain": [
       "torch.Size([3, 400, 400])"
      ]
     },
     "execution_count": 19,
     "metadata": {
      "tags": []
     },
     "output_type": "execute_result"
    }
   ],
   "source": [
    "data[0]['low'].shape"
   ]
  },
  {
   "cell_type": "code",
   "execution_count": null,
   "metadata": {
    "colab": {
     "base_uri": "https://localhost:8080/",
     "height": 35
    },
    "executionInfo": {
     "elapsed": 1329,
     "status": "ok",
     "timestamp": 1617130979905,
     "user": {
      "displayName": "Rishiraj Bhosale",
      "photoUrl": "",
      "userId": "11657221070443566547"
     },
     "user_tz": -330
    },
    "id": "_bBjizSEfuIV",
    "outputId": "45b65172-136f-4daa-b40c-79186b2af721"
   },
   "outputs": [
    {
     "data": {
      "application/vnd.google.colaboratory.intrinsic+json": {
       "type": "string"
      },
      "text/plain": [
       "'image5000.jpg'"
      ]
     },
     "execution_count": 20,
     "metadata": {
      "tags": []
     },
     "output_type": "execute_result"
    }
   ],
   "source": [
    "data[0]['name']"
   ]
  },
  {
   "cell_type": "code",
   "execution_count": null,
   "metadata": {
    "id": "dbu4-dSMfuIV"
   },
   "outputs": [],
   "source": [
    "n = 200\n",
    "batch_size = 1\n",
    "channels = 3\n",
    "\n",
    "CONV_BLOCKS = 5"
   ]
  },
  {
   "cell_type": "code",
   "execution_count": null,
   "metadata": {
    "id": "Pk40XmPNfuIV"
   },
   "outputs": [],
   "source": [
    "final = final.out(channels, CONV_BLOCKS)"
   ]
  },
  {
   "cell_type": "code",
   "execution_count": null,
   "metadata": {
    "id": "tsLK5t0KfuIV"
   },
   "outputs": [],
   "source": [
    "cuda = torch.cuda.is_available()"
   ]
  },
  {
   "cell_type": "code",
   "execution_count": null,
   "metadata": {
    "id": "goC5Tgx0fuIV"
   },
   "outputs": [],
   "source": [
    "if cuda:\n",
    "    final = final.cuda()"
   ]
  },
  {
   "cell_type": "code",
   "execution_count": null,
   "metadata": {
    "colab": {
     "base_uri": "https://localhost:8080/"
    },
    "executionInfo": {
     "elapsed": 1031,
     "status": "ok",
     "timestamp": 1617131066998,
     "user": {
      "displayName": "Rishiraj Bhosale",
      "photoUrl": "",
      "userId": "11657221070443566547"
     },
     "user_tz": -330
    },
    "id": "aFqS_9FtfuIW",
    "outputId": "cd765f3f-57eb-49e0-e1bc-2262dadc0f62"
   },
   "outputs": [
    {
     "data": {
      "text/plain": [
       "<All keys matched successfully>"
      ]
     },
     "execution_count": 33,
     "metadata": {
      "tags": []
     },
     "output_type": "execute_result"
    }
   ],
   "source": [
    "final.load_state_dict(torch.load(\"drive/MyDrive/ImageSuperResolution/final/saved_models/out_\"+str(n-1)+\".pth\"))"
   ]
  },
  {
   "cell_type": "code",
   "execution_count": null,
   "metadata": {
    "id": "k9NdLQK4fuIW"
   },
   "outputs": [],
   "source": [
    "dataloader = DataLoader(\n",
    "    data,\n",
    "    batch_size=batch_size,\n",
    "    shuffle=True,\n",
    "    num_workers=0,\n",
    ")"
   ]
  },
  {
   "cell_type": "code",
   "execution_count": null,
   "metadata": {
    "id": "Y5d-A8xrfuIW"
   },
   "outputs": [],
   "source": [
    "Tensor = torch.cuda.FloatTensor if cuda else torch.Tensor"
   ]
  },
  {
   "cell_type": "code",
   "execution_count": null,
   "metadata": {
    "id": "jie714TOfuIW"
   },
   "outputs": [],
   "source": [
    "os.makedirs(\"drive/MyDrive/ImageSuperResolution/DatasetBatches/test/final_generated\", exist_ok=True)"
   ]
  },
  {
   "cell_type": "code",
   "execution_count": null,
   "metadata": {
    "colab": {
     "base_uri": "https://localhost:8080/",
     "height": 286
    },
    "executionInfo": {
     "elapsed": 1714,
     "status": "ok",
     "timestamp": 1617131092778,
     "user": {
      "displayName": "Rishiraj Bhosale",
      "photoUrl": "",
      "userId": "11657221070443566547"
     },
     "user_tz": -330
    },
    "id": "hx94HZmffuIW",
    "outputId": "37ceab90-6414-4e63-b148-b51c60ceb81b"
   },
   "outputs": [
    {
     "data": {
      "text/plain": [
       "<matplotlib.image.AxesImage at 0x7f2895fca5d0>"
      ]
     },
     "execution_count": 37,
     "metadata": {
      "tags": []
     },
     "output_type": "execute_result"
    },
    {
     "data": {
      "image/png": "[encoded data removed]",
      "text/plain": [
       "<Figure size 432x288 with 1 Axes>"
      ]
     },
     "metadata": {
      "needs_background": "light",
      "tags": []
     },
     "output_type": "display_data"
    }
   ],
   "source": [
    "k = data[0]['low']\n",
    "plt.imshow(data[0]['low'].permute(1,2,0))"
   ]
  },
  {
   "cell_type": "code",
   "execution_count": null,
   "metadata": {
    "id": "a-x55fVrfuIW"
   },
   "outputs": [],
   "source": [
    "k = k[np.newaxis, ...]\n"
   ]
  },
  {
   "cell_type": "code",
   "execution_count": null,
   "metadata": {
    "colab": {
     "base_uri": "https://localhost:8080/"
    },
    "executionInfo": {
     "elapsed": 1048,
     "status": "ok",
     "timestamp": 1617131095452,
     "user": {
      "displayName": "Rishiraj Bhosale",
      "photoUrl": "",
      "userId": "11657221070443566547"
     },
     "user_tz": -330
    },
    "id": "tIWUEMNufuIX",
    "outputId": "804b3130-81d4-4b9c-91ee-c90bc1d21529"
   },
   "outputs": [
    {
     "data": {
      "text/plain": [
       "torch.Size([1, 3, 400, 400])"
      ]
     },
     "execution_count": 39,
     "metadata": {
      "tags": []
     },
     "output_type": "execute_result"
    }
   ],
   "source": [
    "Variable(k.type(Tensor)).shape"
   ]
  },
  {
   "cell_type": "code",
   "execution_count": null,
   "metadata": {
    "colab": {
     "base_uri": "https://localhost:8080/"
    },
    "executionInfo": {
     "elapsed": 858,
     "status": "ok",
     "timestamp": 1617131095453,
     "user": {
      "displayName": "Rishiraj Bhosale",
      "photoUrl": "",
      "userId": "11657221070443566547"
     },
     "user_tz": -330
    },
    "id": "lNLHhFEzfuIX",
    "outputId": "e9cfdf9b-24d2-48f5-c0a6-68c5db9d9961",
    "scrolled": true
   },
   "outputs": [
    {
     "data": {
      "text/plain": [
       "tensor([[[[0.1482, 0.1687, 0.1656,  ..., 0.0876, 0.0789, 0.1204],\n",
       "          [0.1628, 0.1592, 0.1693,  ..., 0.0882, 0.0753, 0.0879],\n",
       "          [0.1654, 0.1652, 0.1701,  ..., 0.0743, 0.0736, 0.0807],\n",
       "          ...,\n",
       "          [0.0605, 0.0558, 0.0450,  ..., 0.0574, 0.0598, 0.0710],\n",
       "          [0.0482, 0.0641, 0.0614,  ..., 0.0789, 0.0818, 0.0774],\n",
       "          [0.0864, 0.0626, 0.0623,  ..., 0.0744, 0.0797, 0.0798]],\n",
       "\n",
       "         [[0.1955, 0.2130, 0.2203,  ..., 0.0685, 0.0619, 0.0773],\n",
       "          [0.2166, 0.2068, 0.2137,  ..., 0.0661, 0.0682, 0.0708],\n",
       "          [0.2184, 0.2182, 0.2216,  ..., 0.0686, 0.0699, 0.0624],\n",
       "          ...,\n",
       "          [0.0562, 0.0430, 0.0482,  ..., 0.0501, 0.0541, 0.0552],\n",
       "          [0.0542, 0.0447, 0.0566,  ..., 0.0538, 0.0549, 0.0564],\n",
       "          [0.1104, 0.0712, 0.0655,  ..., 0.0563, 0.0600, 0.0754]],\n",
       "\n",
       "         [[0.2629, 0.2776, 0.3004,  ..., 0.0736, 0.0715, 0.0850],\n",
       "          [0.2759, 0.2721, 0.2878,  ..., 0.0735, 0.0778, 0.0687],\n",
       "          [0.2881, 0.2844, 0.2849,  ..., 0.0663, 0.0698, 0.0642],\n",
       "          ...,\n",
       "          [0.0585, 0.0386, 0.0460,  ..., 0.0438, 0.0491, 0.0509],\n",
       "          [0.0522, 0.0429, 0.0531,  ..., 0.0427, 0.0478, 0.0550],\n",
       "          [0.0414, 0.0653, 0.0620,  ..., 0.0520, 0.0510, 0.0611]]]],\n",
       "       device='cuda:0', grad_fn=<AddBackward0>)"
      ]
     },
     "execution_count": 40,
     "metadata": {
      "tags": []
     },
     "output_type": "execute_result"
    }
   ],
   "source": [
    "final(Variable(k.type(Tensor)))"
   ]
  },
  {
   "cell_type": "code",
   "execution_count": null,
   "metadata": {},
   "outputs": [],
   "source": [
    "image = outputs[i]"
   ]
  },
  {
   "cell_type": "code",
   "execution_count": null,
   "metadata": {
    "id": "BR9828cMfuIX"
   },
   "outputs": [],
   "source": [
    "generated_image_root = 'drive/MyDrive/ImageSuperResolution/DatasetBatches/test/final_generated/'\n",
    "for i, imgs in enumerate(dataloader):\n",
    "        img_low = Variable(imgs[\"low\"].type(Tensor))\n",
    "        outputs = final(img_low)\n",
    "        outputs.detach_\n",
    "        outputs = outputs.to('cpu')\n",
    "        for i, img in enumerate(outputs):\n",
    "            save_image(img, generated_image_root + imgs['name'][i])"
   ]
  }
 ],
 "metadata": {
  "accelerator": "GPU",
  "colab": {
   "collapsed_sections": [],
   "name": "Copy of Data_creation_via_final_layer - test.ipynb",
   "provenance": []
  },
  "kernelspec": {
   "display_name": "Python 3",
   "language": "python",
   "name": "python3"
  },
  "language_info": {
   "codemirror_mode": {
    "name": "ipython",
    "version": 3
   },
   "file_extension": ".py",
   "mimetype": "text/x-python",
   "name": "python",
   "nbconvert_exporter": "python",
   "pygments_lexer": "ipython3",
   "version": "3.8.8"
  }
 },
 "nbformat": 4,
 "nbformat_minor": 1
}
