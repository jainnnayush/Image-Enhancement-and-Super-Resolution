{
 "cells": [
  {
   "cell_type": "code",
   "execution_count": 1,
   "metadata": {
    "colab": {
     "base_uri": "https://localhost:8080/"
    },
    "executionInfo": {
     "elapsed": 32086,
     "status": "ok",
     "timestamp": 1617132339153,
     "user": {
      "displayName": "Rishiraj Bhosale",
      "photoUrl": "",
      "userId": "11657221070443566547"
     },
     "user_tz": -330
    },
    "id": "0kF5VYuMmJK2",
    "outputId": "f425a089-8093-4a05-d502-078497fd5c0a"
   },
   "outputs": [
    {
     "name": "stdout",
     "output_type": "stream",
     "text": [
      "Mounted at /content/drive\n"
     ]
    }
   ],
   "source": [
    "from google.colab import drive\n",
    "drive.mount('/content/drive')"
   ]
  },
  {
   "cell_type": "code",
   "execution_count": 2,
   "metadata": {
    "colab": {
     "base_uri": "https://localhost:8080/"
    },
    "executionInfo": {
     "elapsed": 9195,
     "status": "ok",
     "timestamp": 1617132341673,
     "user": {
      "displayName": "Rishiraj Bhosale",
      "photoUrl": "",
      "userId": "11657221070443566547"
     },
     "user_tz": -330
    },
    "id": "NL9RQGzTmJ3x",
    "outputId": "454eb88e-0fdf-4385-c47b-818f859837fc"
   },
   "outputs": [
    {
     "name": "stdout",
     "output_type": "stream",
     "text": [
      "Collecting pytorch-msssim\n",
      "  Downloading https://files.pythonhosted.org/packages/9d/d3/3cb0f397232cf79e1762323c3a8862e39ad53eca0bb5f6be9ccc8e7c070e/pytorch_msssim-0.2.1-py3-none-any.whl\n",
      "Requirement already satisfied: torch in /usr/local/lib/python3.7/dist-packages (from pytorch-msssim) (1.8.1+cu101)\n",
      "Requirement already satisfied: typing-extensions in /usr/local/lib/python3.7/dist-packages (from torch->pytorch-msssim) (3.7.4.3)\n",
      "Requirement already satisfied: numpy in /usr/local/lib/python3.7/dist-packages (from torch->pytorch-msssim) (1.19.5)\n",
      "Installing collected packages: pytorch-msssim\n",
      "Successfully installed pytorch-msssim-0.2.1\n"
     ]
    }
   ],
   "source": [
    "!pip install pytorch-msssim"
   ]
  },
  {
   "cell_type": "code",
   "execution_count": 3,
   "metadata": {
    "executionInfo": {
     "elapsed": 11328,
     "status": "ok",
     "timestamp": 1617132343957,
     "user": {
      "displayName": "Rishiraj Bhosale",
      "photoUrl": "",
      "userId": "11657221070443566547"
     },
     "user_tz": -330
    },
    "id": "Xl4NOWWgmAWY"
   },
   "outputs": [],
   "source": [
    "import glob\n",
    "import random\n",
    "import os\n",
    "import numpy as np\n",
    "import argparse\n",
    "import math\n",
    "import itertools\n",
    "import sys\n",
    "\n",
    "import torch\n",
    "from torch import nn\n",
    "import torch.nn.functional as F\n",
    "from torch.utils.data import Dataset\n",
    "from PIL import Image\n",
    "import torchvision.transforms as transforms\n",
    "\n",
    "import torchvision.transforms as transforms\n",
    "from torchvision.utils import save_image, make_grid\n",
    "\n",
    "from torch.utils.data import DataLoader\n",
    "from torch.autograd import Variable\n",
    "\n",
    "from matplotlib import pyplot as ply\n",
    "\n",
    "from pytorch_msssim import ssim, ms_ssim, SSIM, MS_SSIM\n",
    "\n",
    "# Normalization parameters for pre-trained PyTorch models\n",
    "mean = np.array([0.485, 0.456, 0.406])\n",
    "std = np.array([0.229, 0.224, 0.225])"
   ]
  },
  {
   "cell_type": "code",
   "execution_count": 4,
   "metadata": {
    "executionInfo": {
     "elapsed": 1252,
     "status": "ok",
     "timestamp": 1617132363545,
     "user": {
      "displayName": "Rishiraj Bhosale",
      "photoUrl": "",
      "userId": "11657221070443566547"
     },
     "user_tz": -330
    },
    "id": "gKajqR9smAWZ"
   },
   "outputs": [],
   "source": [
    "class ImageDataset(Dataset):\n",
    "    def __init__(self, root, shape, transform):\n",
    "        height, width = shape\n",
    "        # Transforms for low resolution images and high resolution images\n",
    "        self.transform = transform\n",
    "\n",
    "        self.files = sorted(glob.glob(root + \"/*.*\"))\n",
    "\n",
    "    def __getitem__(self, index):\n",
    "        low_path = self.files[index % len(self.files)]\n",
    "        #high_path = low_path.replace('low','high')\n",
    "        \n",
    "        img_low = Image.open(low_path)\n",
    "        #img_high = Image.open(high_path)\n",
    "        \n",
    "        img_low = self.transform(img_low)\n",
    "        #img_high = self.transform(img_high)\n",
    "         \n",
    "        name = low_path[63:]\n",
    "\n",
    "        return {\"low\": img_low, \"name\": name}\n",
    "\n",
    "\n",
    "    def __len__(self):\n",
    "        return len(self.files)"
   ]
  },
  {
   "cell_type": "code",
   "execution_count": 5,
   "metadata": {
    "colab": {
     "base_uri": "https://localhost:8080/"
    },
    "executionInfo": {
     "elapsed": 1306,
     "status": "ok",
     "timestamp": 1617132391605,
     "user": {
      "displayName": "Rishiraj Bhosale",
      "photoUrl": "",
      "userId": "11657221070443566547"
     },
     "user_tz": -330
    },
    "id": "MOxAlNAMmAWZ",
    "outputId": "0f870d5c-6754-4224-f4fe-e808071a32d0"
   },
   "outputs": [
    {
     "name": "stderr",
     "output_type": "stream",
     "text": [
      "/usr/local/lib/python3.7/dist-packages/torchvision/transforms/transforms.py:258: UserWarning: Argument interpolation should be of type InterpolationMode instead of int. Please, use InterpolationMode enum.\n",
      "  \"Argument interpolation should be of type InterpolationMode instead of int. \"\n"
     ]
    }
   ],
   "source": [
    "root = '/content/drive/MyDrive/ImageSuperResolution/DatasetBatches/low/'\n",
    "shape = (400//4,400//4)\n",
    "\n",
    "transform = transforms.Compose(\n",
    "            [\n",
    "                transforms.Resize((shape[0], shape[1]), Image.BICUBIC),\n",
    "                transforms.ToTensor(),\n",
    "                #transforms.Normalize(mean, std),\n",
    "            ]\n",
    "        )"
   ]
  },
  {
   "cell_type": "code",
   "execution_count": 6,
   "metadata": {
    "executionInfo": {
     "elapsed": 22440,
     "status": "ok",
     "timestamp": 1617132413861,
     "user": {
      "displayName": "Rishiraj Bhosale",
      "photoUrl": "",
      "userId": "11657221070443566547"
     },
     "user_tz": -330
    },
    "id": "tYCY0vsjmAWa"
   },
   "outputs": [],
   "source": [
    "data = ImageDataset(root, shape, transform)"
   ]
  },
  {
   "cell_type": "code",
   "execution_count": 7,
   "metadata": {
    "colab": {
     "base_uri": "https://localhost:8080/"
    },
    "executionInfo": {
     "elapsed": 2186,
     "status": "ok",
     "timestamp": 1617132428020,
     "user": {
      "displayName": "Rishiraj Bhosale",
      "photoUrl": "",
      "userId": "11657221070443566547"
     },
     "user_tz": -330
    },
    "id": "w4Ys_J6mmna8",
    "outputId": "924ae6a2-6c56-4f3f-dc72-11c675a86d9b"
   },
   "outputs": [
    {
     "data": {
      "text/plain": [
       "{'low': tensor([[[0.0078, 0.0078, 0.0078,  ..., 0.0471, 0.0471, 0.0431],\n",
       "          [0.0078, 0.0078, 0.0078,  ..., 0.0275, 0.0510, 0.0510],\n",
       "          [0.0078, 0.0078, 0.0078,  ..., 0.0000, 0.0275, 0.0510],\n",
       "          ...,\n",
       "          [0.0039, 0.0039, 0.0078,  ..., 0.0118, 0.0157, 0.0235],\n",
       "          [0.0039, 0.0039, 0.0078,  ..., 0.0275, 0.0275, 0.0275],\n",
       "          [0.0039, 0.0039, 0.0078,  ..., 0.0196, 0.0157, 0.0078]],\n",
       " \n",
       "         [[0.0078, 0.0078, 0.0078,  ..., 0.0902, 0.0824, 0.0784],\n",
       "          [0.0078, 0.0078, 0.0078,  ..., 0.0980, 0.0941, 0.0824],\n",
       "          [0.0078, 0.0078, 0.0078,  ..., 0.0510, 0.0980, 0.0941],\n",
       "          ...,\n",
       "          [0.0039, 0.0039, 0.0000,  ..., 0.0471, 0.0588, 0.0275],\n",
       "          [0.0039, 0.0039, 0.0000,  ..., 0.0510, 0.0314, 0.0235],\n",
       "          [0.0039, 0.0039, 0.0039,  ..., 0.0196, 0.0157, 0.0118]],\n",
       " \n",
       "         [[0.0549, 0.0549, 0.0549,  ..., 0.1216, 0.1176, 0.1137],\n",
       "          [0.0549, 0.0549, 0.0549,  ..., 0.1373, 0.1255, 0.1176],\n",
       "          [0.0549, 0.0549, 0.0549,  ..., 0.1098, 0.1294, 0.1373],\n",
       "          ...,\n",
       "          [0.0039, 0.0039, 0.0078,  ..., 0.0902, 0.0980, 0.0588],\n",
       "          [0.0039, 0.0039, 0.0039,  ..., 0.0863, 0.0627, 0.0549],\n",
       "          [0.0039, 0.0039, 0.0078,  ..., 0.0431, 0.0275, 0.0235]]]),\n",
       " 'name': 'image0000.jpg'}"
      ]
     },
     "execution_count": 7,
     "metadata": {
      "tags": []
     },
     "output_type": "execute_result"
    }
   ],
   "source": [
    "data[0]"
   ]
  },
  {
   "cell_type": "code",
   "execution_count": 8,
   "metadata": {
    "executionInfo": {
     "elapsed": 1189,
     "status": "ok",
     "timestamp": 1617132434308,
     "user": {
      "displayName": "Rishiraj Bhosale",
      "photoUrl": "",
      "userId": "11657221070443566547"
     },
     "user_tz": -330
    },
    "id": "Q_kP46d_mAWa"
   },
   "outputs": [],
   "source": [
    "os.makedirs(\"/content/drive/MyDrive/ImageSuperResolution/DatasetBatches/100X100_low\", exist_ok=True)"
   ]
  },
  {
   "cell_type": "code",
   "execution_count": 9,
   "metadata": {
    "executionInfo": {
     "elapsed": 780,
     "status": "ok",
     "timestamp": 1617132434767,
     "user": {
      "displayName": "Rishiraj Bhosale",
      "photoUrl": "",
      "userId": "11657221070443566547"
     },
     "user_tz": -330
    },
    "id": "UVMEkG7-mAWa"
   },
   "outputs": [],
   "source": [
    "generated_image_root = \"/content/drive/MyDrive/ImageSuperResolution/DatasetBatches/100X100_low/\""
   ]
  },
  {
   "cell_type": "code",
   "execution_count": null,
   "metadata": {
    "id": "NJga1mWXmAWa"
   },
   "outputs": [],
   "source": [
    "for i in range(len(data)):\n",
    "    img = data[i]\n",
    "    save_image(img['low'], generated_image_root + img['name'])"
   ]
  },
  {
   "cell_type": "code",
   "execution_count": null,
   "metadata": {
    "id": "VYLVCjswmAWa"
   },
   "outputs": [],
   "source": []
  }
 ],
 "metadata": {
  "accelerator": "GPU",
  "colab": {
   "collapsed_sections": [],
   "name": "Dataset_creation_100X100_DarkImages.ipynb",
   "provenance": []
  },
  "kernelspec": {
   "display_name": "Python 3",
   "language": "python",
   "name": "python3"
  },
  "language_info": {
   "codemirror_mode": {
    "name": "ipython",
    "version": 3
   },
   "file_extension": ".py",
   "mimetype": "text/x-python",
   "name": "python",
   "nbconvert_exporter": "python",
   "pygments_lexer": "ipython3",
   "version": "3.8.8"
  }
 },
 "nbformat": 4,
 "nbformat_minor": 1
}
